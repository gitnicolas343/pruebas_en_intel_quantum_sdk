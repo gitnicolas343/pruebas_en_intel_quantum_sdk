{
 "cells": [
  {
   "cell_type": "code",
   "execution_count": 1,
   "id": "65c6939b",
   "metadata": {},
   "outputs": [],
   "source": [
    "#dependencias de intel sdk\n",
    "import os\n",
    "import shutil\n",
    "import intelqsdk.cbindings\n",
    "from openqasm_bridge.v2 import translate\n",
    "from pennylane import numpy as np\n",
    "import gc"
   ]
  },
  {
   "cell_type": "markdown",
   "id": "041366fe",
   "metadata": {},
   "source": [
    "#Pruebas en FULLSTATE simulator "
   ]
  },
  {
   "cell_type": "code",
   "execution_count": 2,
   "id": "522966f1",
   "metadata": {},
   "outputs": [],
   "source": [
    "#rutas dentro del contenedor \n",
    "SDK_BASE = \"/opt/intel/quantum-sdk/docker-intel_quantum_sdk_1.1.1.2024-11-15T22_03_32+00_00\"  #ruta a los archivos bases del contenedor \n",
    "RUN_DIR = os.path.join(SDK_BASE, \"quantum_runs\")                                              #ruta a carpeta auxiliar \n",
    "WORKSPACE_DIR = \"/workspace/test_simulador\"                                                   #ruta al folio de proyecto\n",
    "compiler_path = os.path.join(SDK_BASE, \"intel-quantum-compiler\")                              #ruta al compilador \n",
    "os.environ[\"LD_LIBRARY_PATH\"] = f\"{SDK_BASE}/lib:{SDK_BASE}/virtualenv/lib:{os.environ.get('LD_LIBRARY_PATH','')}\"\n",
    "os.chdir(RUN_DIR)\n",
    "os.makedirs(RUN_DIR, exist_ok=True)                                                           #comprobacion de la existencia de la carpeta        "
   ]
  },
  {
   "cell_type": "code",
   "execution_count": 3,
   "id": "59144908",
   "metadata": {},
   "outputs": [],
   "source": [
    "\n",
    "#circuito de ejemplo\n",
    "qasm_example = \"\"\"\n",
    "OPENQASM 2.0;\n",
    "qreg qubit_register[5];\n",
    "h qubit_register[0];\n",
    "cx qubit_register[0],qubit_register[1];\n",
    "cx qubit_register[1],qubit_register[2];\n",
    "cx qubit_register[2],qubit_register[3];\n",
    "cx qubit_register[3],qubit_register[4];\n",
    "\"\"\"\n",
    "\n",
    "# Traductor  a C++ usando OpenQASM bridge\n",
    "translated = translate(qasm_example, kernel_name='my_kernel')\n",
    "\n",
    "cpp_path = os.path.join(RUN_DIR, \"ghz.cpp\")\n",
    "with open(cpp_path, \"w\", encoding=\"utf8\") as f:\n",
    "    for line in translated:\n",
    "        f.write(line + \"\\n\")\n"
   ]
  },
  {
   "cell_type": "code",
   "execution_count": null,
   "id": "9bec221b",
   "metadata": {},
   "outputs": [
    {
     "name": "stdout",
     "output_type": "stream",
     "text": [
      "===============================================================================\n",
      "                       Intel(R) Quantum SDK (V1.1)\n",
      "===============================================================================\n",
      "Processing source file:\n",
      "/opt/intel/quantum-sdk/docker-intel_quantum_sdk_1.1.1.2024-11-15T22_03_32+00_00/quantum_runs/ghz.cpp \n",
      "-------------------------------------------------------------------------------\n",
      "Intermediate representation (IR) output file: \n",
      "/opt/intel/quantum-sdk/docker-intel_quantum_sdk_1.1.1.2024-11-15T22_03_32+00_00/quantum_runs/ghz.ll\n",
      "Generating quantum object file...\n",
      "Compiling and linking to shared object...\n",
      "Final shared object: \n",
      "/opt/intel/quantum-sdk/docker-intel_quantum_sdk_1.1.1.2024-11-15T22_03_32+00_00/quantum_runs/ghz.so\n",
      "-------------------------------------------------------------------------------\n",
      "Printing probability register of size 32\n",
      "|00000⟩ : 0.5                           |10000⟩ : 2.298e-09                     \n",
      "|01000⟩ : 1.986e-41                     |11000⟩ : 2.298e-09                     \n",
      "|00100⟩ : 1.986e-41                     |10100⟩ : 7.561e-50                     \n",
      "|01100⟩ : 1.986e-41                     |11100⟩ : 2.298e-09                     \n",
      "|00010⟩ : 1.986e-41                     |10010⟩ : 1.478e-49                     \n",
      "|01010⟩ : 8.309e-82                     |11010⟩ : 3.707e-51                     \n",
      "|00110⟩ : 1.986e-41                     |10110⟩ : 7.561e-50                     \n",
      "|01110⟩ : 1.986e-41                     |11110⟩ : 2.298e-09                     \n",
      "|00001⟩ : 4.321e-33                     |10001⟩ : 3.215e-41                     \n",
      "|01001⟩ : 1.808e-73                     |11001⟩ : 8.066e-43                     \n",
      "|00101⟩ : 1.808e-73                     |10101⟩ : 2.554e-82                     \n",
      "|01101⟩ : 6.838e-74                     |11101⟩ : 2.939e-44                     \n",
      "|00011⟩ : 4.32e-33                      |10011⟩ : 3.215e-41                     \n",
      "|01011⟩ : 1.808e-73                     |11011⟩ : 8.066e-43                     \n",
      "|00111⟩ : 4.321e-33                     |10111⟩ : 1.645e-41                     \n",
      "|01111⟩ : 4.321e-33                     |11111⟩ : 0.5                           \n",
      "\n",
      "Printing probability map of size 2\n",
      "|00000⟩ : 0.5                           |11111⟩ : 0.5                           \n",
      "\n"
     ]
    }
   ],
   "source": [
    "#ejecucion\n",
    "\n",
    "sdk_name = \"ghz\"\n",
    "intelqsdk.cbindings.compileProgram(compiler_path, \"ghz.cpp\", \"-s\", sdk_name)\n",
    "\n",
    "iqs_config = intelqsdk.cbindings.IqsConfig()\n",
    "iqs_config.num_qubits = 5\n",
    "iqs_config.simulation_type = \"noiseless\"\n",
    "iqs_device = intelqsdk.cbindings.FullStateSimulator(iqs_config)\n",
    "iqs_device.ready()\n",
    "\n",
    "intelqsdk.cbindings.callCppFunction(\"my_kernel\", sdk_name)\n",
    "\n",
    "\n",
    "# resultados\n",
    "qbit_ref = intelqsdk.cbindings.RefVec()\n",
    "for i in range(5):\n",
    "    qbit_ref.append(intelqsdk.cbindings.QbitRef(\"qubit_register\", i, sdk_name).get_ref())\n",
    "\n",
    "probabilities = iqs_device.getProbabilities(qbit_ref)\n",
    "intelqsdk.cbindings.FullStateSimulator.displayProbabilities(probabilities, qbit_ref)\n",
    "\n",
    "zero_index = intelqsdk.cbindings.QssIndex(\"00000\")\n",
    "one_index = intelqsdk.cbindings.QssIndex(\"11111\")\n",
    "index_vec = intelqsdk.cbindings.QssIndexVec()\n",
    "index_vec.append(zero_index)\n",
    "index_vec.append(one_index)\n",
    "probabilities_2 = iqs_device.getProbabilities(qbit_ref, index_vec, 0.1)\n",
    "\n",
    "intelqsdk.cbindings.FullStateSimulator.displayProbabilities(probabilities_2)\n",
    "\n",
    "for filename in os.listdir(RUN_DIR):\n",
    "    try:\n",
    "        os.remove(os.path.join(RUN_DIR, filename))\n",
    "    except Exception:\n",
    "        pass\n",
    "\n",
    "\n",
    "del iqs_config,iqs_device \n",
    "gc.collect()\n"
   ]
  },
  {
   "cell_type": "code",
   "execution_count": 15,
   "id": "43fa07da",
   "metadata": {},
   "outputs": [
    {
     "name": "stdout",
     "output_type": "stream",
     "text": [
      "parametros: rz(1.72) , ry(2.25) , rz(1.89)\n"
     ]
    }
   ],
   "source": [
    "#test_2 \n",
    "np.random.seed(0)\n",
    "params = np.random.uniform(0,np.pi,3)\n",
    "parm1,parm2,parm3 = params \n",
    "print(f\"parametros: rz({parm1:.2f}) , ry({parm2:.2f}) , rz({parm3:.2f})\")"
   ]
  },
  {
   "cell_type": "code",
   "execution_count": 16,
   "id": "21ad167d",
   "metadata": {},
   "outputs": [],
   "source": [
    "qasm_example_2 = f\"\"\"\n",
    "OPENQASM 2.0;\n",
    "include \"qelib1.inc\";\n",
    "qreg qubit_register[1];\n",
    "\n",
    "rz({parm1}) qubit_register[0];\n",
    "ry({parm2}) qubit_register[0];\n",
    "rz({parm3}) qubit_register[0];\n",
    "\"\"\"\n",
    "translated_2 = translate(qasm_example_2, kernel_name='rotaciones_kernel')\n",
    "\n",
    "cpp_path_2 = os.path.join(RUN_DIR,\"rotaciones.cpp\")\n",
    "\n",
    "with open(cpp_path_2, \"w\", encoding=\"utf8\") as f:\n",
    "    for line in translated_2:\n",
    "        f.write(line + \"\\n\")"
   ]
  },
  {
   "cell_type": "code",
   "execution_count": null,
   "id": "a727593a",
   "metadata": {},
   "outputs": [
    {
     "name": "stdout",
     "output_type": "stream",
     "text": [
      "===============================================================================\n",
      "                       Intel(R) Quantum SDK (V1.1)\n",
      "===============================================================================\n",
      "Processing source file:\n",
      "/opt/intel/quantum-sdk/docker-intel_quantum_sdk_1.1.1.2024-11-15T22_03_32+00_00/quantum_runs/rotaciones.cpp \n",
      "-------------------------------------------------------------------------------\n",
      "Intermediate representation (IR) output file: \n",
      "/opt/intel/quantum-sdk/docker-intel_quantum_sdk_1.1.1.2024-11-15T22_03_32+00_00/quantum_runs/rotaciones.ll\n",
      "Generating quantum object file...\n",
      "Compiling and linking to shared object...\n",
      "Final shared object: \n",
      "/opt/intel/quantum-sdk/docker-intel_quantum_sdk_1.1.1.2024-11-15T22_03_32+00_00/quantum_runs/rotaciones.so\n",
      "-------------------------------------------------------------------------------\n",
      "Printing probability register of size 2\n",
      "|0⟩   : 0.1872                        |1⟩   : 0.8128                        \n",
      "\n",
      "Printing amplitude register of size 2\n",
      "|0⟩   : (-0.102,-0.4204)              |1⟩   : (0.8983,0.07623)              \n",
      "\n"
     ]
    }
   ],
   "source": [
    "sdk_name_2 = \"rotaciones\"\n",
    "intelqsdk.cbindings.compileProgram(compiler_path, \"rotaciones.cpp\", \"-s\", sdk_name_2)\n",
    "\n",
    "iqs_config_2 = intelqsdk.cbindings.IqsConfig()\n",
    "iqs_config_2.num_qubits = 1\n",
    "iqs_config_2.simulation_type = \"noiseless\"\n",
    "iqs_device_2 = intelqsdk.cbindings.FullStateSimulator(iqs_config_2)\n",
    "iqs_device_2.ready()\n",
    "\n",
    "# Llamar kernel generado\n",
    "intelqsdk.cbindings.callCppFunction(\"rotaciones_kernel\", sdk_name_2)\n",
    "\n",
    "# resultados\n",
    "\n",
    "qbit_ref_2 = intelqsdk.cbindings.RefVec()\n",
    "qbit_ref_2.append(intelqsdk.cbindings.QbitRef(\"qubit_register\", 0, sdk_name_2).get_ref())\n",
    "\n",
    "probabilities_2 = iqs_device_2.getProbabilities(qbit_ref_2)\n",
    "intelqsdk.cbindings.FullStateSimulator.displayProbabilities(probabilities_2, qbit_ref_2)\n",
    "\n",
    "amps = iqs_device_2.getAmplitudes(qbit_ref_2)\n",
    "intelqsdk.cbindings.FullStateSimulator.displayAmplitudes(amps, qbit_ref_2)\n",
    "\n",
    "\n",
    "#limpieza\n",
    "\n",
    "for filename in os.listdir(RUN_DIR):\n",
    "    try:\n",
    "        os.remove(os.path.join(RUN_DIR, filename))\n",
    "    except Exception:\n",
    "        pass\n"
   ]
  }
 ],
 "metadata": {
  "kernelspec": {
   "display_name": "virtualenv (3.10.12)",
   "language": "python",
   "name": "python3"
  },
  "language_info": {
   "codemirror_mode": {
    "name": "ipython",
    "version": 3
   },
   "file_extension": ".py",
   "mimetype": "text/x-python",
   "name": "python",
   "nbconvert_exporter": "python",
   "pygments_lexer": "ipython3",
   "version": "3.10.12"
  }
 },
 "nbformat": 4,
 "nbformat_minor": 5
}
